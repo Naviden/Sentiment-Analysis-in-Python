{
 "cells": [
  {
   "cell_type": "markdown",
   "id": "e5b576b1",
   "metadata": {},
   "source": [
    "## Knowledge-Based Sentiment Analysis\n",
    "\n",
    "Knowledge-Based Sentiment Analysis is one of the earliest approaches in the field of sentiment analysis. It relies on a lexicon—a collection of known words associated with sentiment values. These values can be as simple as a binary classification (positive or negative) or more complex scores representing the intensity of sentiment.\n",
    "\n",
    "### How It Works\n",
    "\n",
    "1. **Lexicon Creation:** Compile two lists of words, one for positive sentiment and one for negative sentiment.\n",
    "2. **Text Preprocessing:** Clean and tokenize the input text into individual words.\n",
    "3. **Sentiment Scoring:** For each word in the text, check if it appears in the positive or negative list. The sentiment score is the difference between the counts of positive and negative words.\n",
    "4. **Interpretation:** If the final score is positive, the text is considered to have an overall positive sentiment. If negative, the sentiment is negative. A score of zero can be considered neutral or undecided.\n",
    "\n",
    "### Example\n",
    "\n",
    "Given the sentence \"The movie was great but the ending was disappointing,\" a simple knowledge-based analyzer would identify \"great\" as positive and \"disappointing\" as negative, leading to a neutral overall sentiment score.\n",
    "\n",
    "This approach is straightforward and doesn't require training data, but its effectiveness is limited by the comprehensiveness and accuracy of the sentiment lexicon. It may also struggle with context, sarcasm, and subtlety in language.\n"
   ]
  },
  {
   "cell_type": "code",
   "execution_count": 2,
   "id": "1dab64ac",
   "metadata": {},
   "outputs": [
    {
     "name": "stdout",
     "output_type": "stream",
     "text": [
      "Sentiment Score: 1\n",
      "Overall Sentiment: Positive\n"
     ]
    }
   ],
   "source": [
    "# Define a simple lexicon\n",
    "positive_words = ['good', 'great', 'fantastic', 'amazing', 'love', 'like', 'wonderful']\n",
    "negative_words = ['bad', 'terrible', 'awful', 'hate', 'dislike', 'horrible']\n",
    "\n",
    "# Sample text\n",
    "text = \"The movie was great but the ending was disappointing\"\n",
    "\n",
    "# Preprocess and tokenize the text\n",
    "words = text.lower().split()\n",
    "\n",
    "# Initialize counters\n",
    "positive_count = 0\n",
    "negative_count = 0\n",
    "\n",
    "# Count positive and negative words\n",
    "for word in words:\n",
    "    if word in positive_words:\n",
    "        positive_count += 1\n",
    "    elif word in negative_words:\n",
    "        negative_count += 1\n",
    "\n",
    "# Determine overall sentiment\n",
    "sentiment_score = positive_count - negative_count\n",
    "if sentiment_score > 0:\n",
    "    sentiment = 'Positive'\n",
    "elif sentiment_score < 0:\n",
    "    sentiment = 'Negative'\n",
    "else:\n",
    "    sentiment = 'Neutral'\n",
    "\n",
    "print(f\"Sentiment Score: {sentiment_score}\")\n",
    "print(f\"Overall Sentiment: {sentiment}\")\n"
   ]
  },
  {
   "cell_type": "code",
   "execution_count": null,
   "id": "f255881b",
   "metadata": {},
   "outputs": [],
   "source": []
  }
 ],
 "metadata": {
  "kernelspec": {
   "display_name": "Python 3 (ipykernel)",
   "language": "python",
   "name": "python3"
  },
  "language_info": {
   "codemirror_mode": {
    "name": "ipython",
    "version": 3
   },
   "file_extension": ".py",
   "mimetype": "text/x-python",
   "name": "python",
   "nbconvert_exporter": "python",
   "pygments_lexer": "ipython3",
   "version": "3.11.5"
  }
 },
 "nbformat": 4,
 "nbformat_minor": 5
}
