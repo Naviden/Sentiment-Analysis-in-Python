{
 "cells": [
  {
   "cell_type": "markdown",
   "id": "a8b59338",
   "metadata": {},
   "source": [
    "VADER (Valence Aware Dictionary and sEntiment Reasoner) is a lexicon and rule-based sentiment analysis tool that is specifically attuned to sentiments expressed in social media, or more generally, in natural language text. It uses a combination of a sentiment lexicon, which is a list of lexical features (e.g., words) which are generally labeled according to their semantic orientation as either positive or negative, and a set of rule-based modeling for textual sentiment analysis tasks.\n",
    "\n",
    "VADER has several principal functionalities that make it suitable for social media text sentiment analysis, including handling emojis, slangs, capitalization, and punctuation. Here, I'll demonstrate how to use VADER in Python, showcasing its principal functionalities. We will need to install the `vaderSentiment` package first if it's not already installed.\n",
    "\n",
    "### Installation\n",
    "You can install the VADER package using pip if you haven't done so:\n",
    "```python\n",
    "pip install vaderSentiment\n",
    "```"
   ]
  },
  {
   "cell_type": "markdown",
   "id": "4296733c",
   "metadata": {},
   "source": [
    "### Principal Functionalities of VADER"
   ]
  },
  {
   "cell_type": "code",
   "execution_count": 1,
   "id": "e76d2168",
   "metadata": {},
   "outputs": [
    {
     "name": "stdout",
     "output_type": "stream",
     "text": [
      "Text: I love sunny days in San Francisco. 😊\n",
      "Polarity Scores: {'neg': 0.0, 'neu': 0.381, 'pos': 0.619, 'compound': 0.9186}\n",
      "\n",
      "Text: I HATE rainy days with a passion!\n",
      "Polarity Scores: {'neg': 0.463, 'neu': 0.307, 'pos': 0.23, 'compound': -0.4633}\n",
      "\n",
      "Text: It's raining, but I feel good about our trip.\n",
      "Polarity Scores: {'neg': 0.0, 'neu': 0.675, 'pos': 0.325, 'compound': 0.5927}\n",
      "\n",
      "Text: The service was okay, nothing special. 🤷\n",
      "Polarity Scores: {'neg': 0.222, 'neu': 0.591, 'pos': 0.187, 'compound': -0.092}\n",
      "\n",
      "Text: Lol, that was SO funny! 😂\n",
      "Polarity Scores: {'neg': 0.098, 'neu': 0.308, 'pos': 0.594, 'compound': 0.8922}\n",
      "\n",
      "Text: Wow, this is a great deal! 😱\n",
      "Polarity Scores: {'neg': 0.29, 'neu': 0.3, 'pos': 0.41, 'compound': 0.5255}\n",
      "\n",
      "Text: Well, I guess it could've been worse. :/\n",
      "Polarity Scores: {'neg': 0.437, 'neu': 0.397, 'pos': 0.167, 'compound': -0.5267}\n",
      "\n",
      "Text: Ugh... Monday mornings are the worst. 😒\n",
      "Polarity Scores: {'neg': 0.535, 'neu': 0.465, 'pos': 0.0, 'compound': -0.7845}\n",
      "\n"
     ]
    }
   ],
   "source": [
    "\n",
    "from vaderSentiment.vaderSentiment import SentimentIntensityAnalyzer\n",
    "\n",
    "# Initialize VADER's SentimentIntensityAnalyzer\n",
    "analyzer = SentimentIntensityAnalyzer()\n",
    "\n",
    "# List of example texts\n",
    "texts = [\n",
    "    \"I love sunny days in San Francisco. 😊\", \n",
    "    \"I HATE rainy days with a passion!\",  \n",
    "    \"It's raining, but I feel good about our trip.\",  \n",
    "    \"The service was okay, nothing special. 🤷\",  \n",
    "    \"Lol, that was SO funny! 😂\",  \n",
    "    \"Wow, this is a great deal! 😱\", \n",
    "    \"Well, I guess it could've been worse. :/\",  \n",
    "    \"Ugh... Monday mornings are the worst. 😒\"  \n",
    "]\n",
    "\n",
    "# Analyze sentiment for each text\n",
    "for text in texts:\n",
    "    scores = analyzer.polarity_scores(text)\n",
    "    print(f\"Text: {text}\\nPolarity Scores: {scores}\\n\")\n"
   ]
  },
  {
   "cell_type": "markdown",
   "id": "95c44e6f",
   "metadata": {},
   "source": [
    "### Understanding VADER Scores\n",
    "VADER returns a dictionary of scores in four dimensions:\n",
    "- **neg**: The negative sentiment score.\n",
    "- **neu**: The neutral sentiment score.\n",
    "- **pos**: The positive sentiment score.\n",
    "- **compound**: A normalized, weighted composite score that accounts for the balance of positive, negative, and neutral terms in the text. It ranges from -1 (most negative) to +1 (most positive).\n",
    "\n",
    "### Using VADER Scores\n",
    "The `compound` score is often used to determine the overall sentiment of the text. A common approach is:\n",
    "- Positive sentiment: `compound` score >= 0.05\n",
    "- Neutral sentiment: `compound` score > -0.05 and < 0.05\n",
    "- Negative sentiment: `compound` score <= -0.05\n",
    "\n",
    "This code demonstrates how to use VADER to analyze sentiment in various types of text, illustrating its capability to handle nuances in language, including the use of emojis, capitalization for intensity, and slang, which are common in social media and informal communication."
   ]
  },
  {
   "cell_type": "code",
   "execution_count": null,
   "id": "5c67bb3d",
   "metadata": {},
   "outputs": [],
   "source": []
  }
 ],
 "metadata": {
  "kernelspec": {
   "display_name": "Python 3 (ipykernel)",
   "language": "python",
   "name": "python3"
  },
  "language_info": {
   "codemirror_mode": {
    "name": "ipython",
    "version": 3
   },
   "file_extension": ".py",
   "mimetype": "text/x-python",
   "name": "python",
   "nbconvert_exporter": "python",
   "pygments_lexer": "ipython3",
   "version": "3.11.5"
  }
 },
 "nbformat": 4,
 "nbformat_minor": 5
}
