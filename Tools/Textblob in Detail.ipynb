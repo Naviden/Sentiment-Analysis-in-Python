{
 "cells": [
  {
   "cell_type": "markdown",
   "id": "bb22134c",
   "metadata": {},
   "source": [
    "TextBlob is a Python library for processing textual data. It provides a simple API for diving into common natural language processing (NLP) tasks such as part-of-speech tagging, noun phrase extraction, sentiment analysis, classification, translation, and more. In the context of sentiment analysis, TextBlob can be quite handy due to its simplicity and the fact that it offers both polarity and subjectivity analyses. Polarity measures how positive or negative a sentiment is, ranging from -1 (very negative) to 1 (very positive), whereas subjectivity measures how subjective (opinionated) or objective (factual) the text is, ranging from 0 (objective) to 1 (subjective).\n",
    "\n",
    "### Installation\n",
    "To use TextBlob, you first need to install the package and its data. If you haven't installed TextBlob yet, you can do so using pip:\n",
    "\n",
    "```\n",
    "pip install textblob\n",
    "````\n",
    "\n",
    "\n",
    "Additionally, you may need to download the necessary corpora:\n",
    "\n",
    "```\n",
    "python -m textblob.download_corpora\n",
    "````\n"
   ]
  },
  {
   "cell_type": "markdown",
   "id": "136859d3",
   "metadata": {},
   "source": [
    "### Principal Functionalities of TextBlob for Sentiment Analysis\n",
    "\n",
    "Here's how you can use TextBlob for sentiment analysis, showcasing its principal functionalities:"
   ]
  },
  {
   "cell_type": "code",
   "execution_count": 4,
   "id": "a740b58a",
   "metadata": {},
   "outputs": [
    {
     "name": "stdout",
     "output_type": "stream",
     "text": [
      "Text: I love sunny days in San Francisco.\n",
      "Polarity: 0.5, Subjectivity: 0.6\n",
      "\n",
      "Text: I HATE rainy days with a passion!\n",
      "Polarity: -1.0, Subjectivity: 0.9\n",
      "\n",
      "Text: It's raining, but I feel good about our trip.\n",
      "Polarity: 0.7, Subjectivity: 0.6000000000000001\n",
      "\n",
      "Text: The service was okay, nothing special.\n",
      "Polarity: 0.4285714285714286, Subjectivity: 0.5357142857142857\n",
      "\n",
      "Text: Lol, that was SO funny!\n",
      "Polarity: 0.55625, Subjectivity: 0.85\n",
      "\n",
      "Text: Wow, this is a great deal!\n",
      "Polarity: 0.55, Subjectivity: 0.875\n",
      "\n",
      "Text: Well, I guess it could've been worse.\n",
      "Polarity: -0.4, Subjectivity: 0.6\n",
      "\n",
      "Text: Ugh... Monday mornings are the worst.\n",
      "Polarity: -1.0, Subjectivity: 1.0\n",
      "\n"
     ]
    }
   ],
   "source": [
    "from textblob import TextBlob\n",
    "\n",
    "# List of example texts\n",
    "texts = [\n",
    "    \"I love sunny days in San Francisco.\", \"I HATE rainy days with a passion!\",\n",
    "    \"It's raining, but I feel good about our trip.\",\n",
    "    \"The service was okay, nothing special.\", \"Lol, that was SO funny!\",\n",
    "    \"Wow, this is a great deal!\", \"Well, I guess it could've been worse.\",\n",
    "    \"Ugh... Monday mornings are the worst.\"\n",
    "]\n",
    "\n",
    "# Analyze sentiment for each text\n",
    "for text in texts:\n",
    "    blob = TextBlob(text)\n",
    "    print(\n",
    "        f\"Text: {text}\\nPolarity: {blob.sentiment.polarity}, Subjectivity: {blob.sentiment.subjectivity}\\n\"\n",
    "    )"
   ]
  },
  {
   "cell_type": "markdown",
   "id": "bf7af5c4",
   "metadata": {},
   "source": [
    "### Understanding TextBlob Sentiment Output\n",
    "- **Polarity**: This is a float within the range [-1.0, 1.0] where -1 means negative sentiment and 1 means positive sentiment. It provides a measure of the text's sentiment where negative values are indicative of negative sentiment, positive values are indicative of positive sentiment, and values close to zero are neutral.\n",
    "- **Subjectivity**: This is a float within the range [0.0, 1.0] where 0.0 is very objective and 1.0 is very subjective. Subjective sentences generally refer to personal opinion, emotion, or judgment whereas objective refers to factual information.\n",
    "\n",
    "### Using TextBlob Scores\n",
    "The polarity score can be directly used to determine the sentiment direction (positive, negative, or neutral) of the given text. Similarly, the subjectivity score can help in identifying how much of the text is based on opinions versus factual information.\n",
    "\n",
    "This simple example demonstrates how TextBlob can be employed for basic sentiment analysis and subjectivity determination, providing valuable insights into the nature of the text being analyzed. TextBlob's sentiment analysis function is particularly useful for quickly assessing the sentiment of a piece of text without needing to train a model."
   ]
  }
 ],
 "metadata": {
  "kernelspec": {
   "display_name": "Python 3 (ipykernel)",
   "language": "python",
   "name": "python3"
  },
  "language_info": {
   "codemirror_mode": {
    "name": "ipython",
    "version": 3
   },
   "file_extension": ".py",
   "mimetype": "text/x-python",
   "name": "python",
   "nbconvert_exporter": "python",
   "pygments_lexer": "ipython3",
   "version": "3.11.5"
  }
 },
 "nbformat": 4,
 "nbformat_minor": 5
}
